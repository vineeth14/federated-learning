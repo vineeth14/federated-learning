{
 "cells": [
  {
   "cell_type": "code",
   "execution_count": 70,
   "metadata": {},
   "outputs": [],
   "source": [
    "%reload_ext autoreload\n",
    "%autoreload 2\n",
    "%matplotlib inline\n",
    "import torch"
   ]
  },
  {
   "cell_type": "code",
   "execution_count": 71,
   "metadata": {},
   "outputs": [],
   "source": [
    "from fastai.vision import *"
   ]
  },
  {
   "cell_type": "code",
   "execution_count": 72,
   "metadata": {},
   "outputs": [],
   "source": [
    "import numpy as np\n",
    "import pandas as pd\n",
    "import scipy.stats as stats\n",
    "import matplotlib.pyplot as plt\n",
    "import sklearn\n",
    "from sklearn.datasets import load_boston\n",
    "from torch import nn,optim\n",
    "import torch as th\n",
    "import syft as sy"
   ]
  },
  {
   "cell_type": "code",
   "execution_count": 73,
   "metadata": {},
   "outputs": [
    {
     "name": "stderr",
     "output_type": "stream",
     "text": [
      "WARNING:root:Torch was already hooked... skipping hooking process\n"
     ]
    }
   ],
   "source": [
    "hook = sy.TorchHook(th)\n",
    "boston = load_boston()\n",
    "boston_data = pd.DataFrame(boston.data)\n"
   ]
  },
  {
   "cell_type": "code",
   "execution_count": 74,
   "metadata": {},
   "outputs": [
    {
     "name": "stdout",
     "output_type": "stream",
     "text": [
      "dict_keys(['data', 'target', 'feature_names', 'DESCR', 'filename'])\n"
     ]
    }
   ],
   "source": [
    "print(boston.keys())\n"
   ]
  },
  {
   "cell_type": "code",
   "execution_count": 75,
   "metadata": {},
   "outputs": [
    {
     "name": "stdout",
     "output_type": "stream",
     "text": [
      "      CRIM    ZN  INDUS  CHAS    NOX     RM   AGE     DIS  RAD    TAX  \\\n",
      "0  0.00632  18.0   2.31   0.0  0.538  6.575  65.2  4.0900  1.0  296.0   \n",
      "1  0.02731   0.0   7.07   0.0  0.469  6.421  78.9  4.9671  2.0  242.0   \n",
      "2  0.02729   0.0   7.07   0.0  0.469  7.185  61.1  4.9671  2.0  242.0   \n",
      "3  0.03237   0.0   2.18   0.0  0.458  6.998  45.8  6.0622  3.0  222.0   \n",
      "4  0.06905   0.0   2.18   0.0  0.458  7.147  54.2  6.0622  3.0  222.0   \n",
      "\n",
      "   PTRATIO       B  LSTAT  \n",
      "0     15.3  396.90   4.98  \n",
      "1     17.8  396.90   9.14  \n",
      "2     17.8  392.83   4.03  \n",
      "3     18.7  394.63   2.94  \n",
      "4     18.7  396.90   5.33  \n"
     ]
    }
   ],
   "source": [
    "bo = pd.DataFrame(boston.data)\n",
    "bo.columns = boston.feature_names\n",
    "print(bo.head())\n",
    "boston_target = boston.target"
   ]
  },
  {
   "cell_type": "code",
   "execution_count": 76,
   "metadata": {},
   "outputs": [
    {
     "name": "stdout",
     "output_type": "stream",
     "text": [
      "[24.  21.6 34.7 33.4 ... 20.6 23.9 22.  11.9]\n"
     ]
    }
   ],
   "source": [
    "print(boston_target)"
   ]
  },
  {
   "cell_type": "code",
   "execution_count": 77,
   "metadata": {},
   "outputs": [],
   "source": [
    "X=torch.tensor(boston_data.values,requires_grad=True,dtype=torch.float)\n",
    "Y=torch.tensor(boston_target,requires_grad=True,dtype=torch.float)"
   ]
  },
  {
   "cell_type": "code",
   "execution_count": 78,
   "metadata": {},
   "outputs": [
    {
     "name": "stdout",
     "output_type": "stream",
     "text": [
      "torch.Size([506, 13])\n"
     ]
    }
   ],
   "source": [
    "print (X.shape)"
   ]
  },
  {
   "cell_type": "code",
   "execution_count": null,
   "metadata": {},
   "outputs": [],
   "source": []
  },
  {
   "cell_type": "code",
   "execution_count": 79,
   "metadata": {},
   "outputs": [],
   "source": [
    "Y=Y.reshape((506,1))"
   ]
  },
  {
   "cell_type": "code",
   "execution_count": 80,
   "metadata": {
    "scrolled": true
   },
   "outputs": [],
   "source": [
    "bob=sy.VirtualWorker(hook,id='bob')\n"
   ]
  },
  {
   "cell_type": "code",
   "execution_count": 81,
   "metadata": {},
   "outputs": [],
   "source": [
    "bill=sy.VirtualWorker(hook,id='bill')\n",
    "rupert = sy.VirtualWorker(hook,id='rupert')"
   ]
  },
  {
   "cell_type": "code",
   "execution_count": 82,
   "metadata": {},
   "outputs": [],
   "source": [
    "bob_train= X[0:200].send(bob)\n",
    "bob_target=Y[0:200].send(bob)"
   ]
  },
  {
   "cell_type": "code",
   "execution_count": 83,
   "metadata": {},
   "outputs": [],
   "source": [
    "bill_train = X[200:400].send(bill)\n",
    "bill_target=Y[200:400].send(bill)\n",
    "test_data = X[400:]\n",
    "test_target = Y[400:].send(rupert)"
   ]
  },
  {
   "cell_type": "code",
   "execution_count": 84,
   "metadata": {},
   "outputs": [],
   "source": [
    "loss_function= nn.MSELoss()"
   ]
  },
  {
   "cell_type": "code",
   "execution_count": 85,
   "metadata": {},
   "outputs": [],
   "source": [
    "loss_function_bob = nn.MSELoss()"
   ]
  },
  {
   "cell_type": "code",
   "execution_count": 86,
   "metadata": {},
   "outputs": [],
   "source": [
    "datasets =[(bob_train,bob_target),(bill_train,bill_target)]"
   ]
  },
  {
   "cell_type": "code",
   "execution_count": 87,
   "metadata": {},
   "outputs": [],
   "source": [
    "def federated(iterations=100):\n",
    "\n",
    "    model=nn.Sequential(nn.Linear(13, 18), nn.ReLU(),\n",
    "                       nn.Linear(18, 10), nn.ReLU(),\n",
    "                       nn.Linear(10, 5), nn.ReLU(),\n",
    "                       nn.Linear(5, 1))\n",
    "    opt =optim.SGD(params=model.parameters(),lr=0.01)\n",
    "    \n",
    "    for iter in range (iterations):\n",
    "   \n",
    "        for _data,_target in datasets:\n",
    "             # sending model\n",
    "                model=model.send(_data.location)\n",
    "\n",
    "             #training on the different machines\n",
    "                opt.zero_grad()\n",
    "                pred=model(_data)\n",
    "                loss=loss_function(pred,_target)                                 \n",
    "                loss.backward()\n",
    "                opt.step()\n",
    "             \n",
    "             #Get trained model\n",
    "                model=model.get()\n",
    "\n",
    "                print(loss.get())\n"
   ]
  },
  {
   "cell_type": "code",
   "execution_count": 88,
   "metadata": {
    "scrolled": true
   },
   "outputs": [
    {
     "name": "stdout",
     "output_type": "stream",
     "text": [
      "tensor(787.5753, requires_grad=True)\n",
      "tensor(385.2756, requires_grad=True)\n",
      "tensor(600.8577, requires_grad=True)\n",
      "tensor(722.3762, requires_grad=True)\n",
      "tensor(557.1412, requires_grad=True)\n",
      "tensor(676.3432, requires_grad=True)\n",
      "tensor(516.8979, requires_grad=True)\n",
      "tensor(633.8062, requires_grad=True)\n",
      "tensor(479.8549, requires_grad=True)\n",
      "tensor(594.4968, requires_grad=True)\n",
      "tensor(445.7610, requires_grad=True)\n",
      "tensor(558.1672, requires_grad=True)\n",
      "tensor(414.3841, requires_grad=True)\n",
      "tensor(524.5891, requires_grad=True)\n",
      "tensor(385.5104, requires_grad=True)\n",
      "tensor(493.5515, requires_grad=True)\n",
      "tensor(358.9431, requires_grad=True)\n",
      "tensor(464.8601, requires_grad=True)\n",
      "tensor(334.5005, requires_grad=True)\n",
      "tensor(438.3349, requires_grad=True)\n",
      "tensor(312.0153, requires_grad=True)\n",
      "tensor(413.8104, requires_grad=True)\n",
      "tensor(291.3330, requires_grad=True)\n",
      "tensor(391.1335, requires_grad=True)\n",
      "tensor(272.3115, requires_grad=True)\n",
      "tensor(370.1628, requires_grad=True)\n",
      "tensor(254.8196, requires_grad=True)\n",
      "tensor(350.7684, requires_grad=True)\n",
      "tensor(238.7365, requires_grad=True)\n",
      "tensor(332.8297, requires_grad=True)\n",
      "tensor(223.9508, requires_grad=True)\n",
      "tensor(316.2357, requires_grad=True)\n",
      "tensor(210.3599, requires_grad=True)\n",
      "tensor(300.8841, requires_grad=True)\n",
      "tensor(197.8691, requires_grad=True)\n",
      "tensor(286.6799, requires_grad=True)\n",
      "tensor(186.3913, requires_grad=True)\n",
      "tensor(273.5361, requires_grad=True)\n",
      "tensor(175.8461, requires_grad=True)\n",
      "tensor(261.3720, requires_grad=True)\n",
      "tensor(166.1595, requires_grad=True)\n",
      "tensor(250.1131, requires_grad=True)\n",
      "tensor(157.2632, requires_grad=True)\n",
      "tensor(239.6906, requires_grad=True)\n",
      "tensor(149.0943, requires_grad=True)\n",
      "tensor(230.0412, requires_grad=True)\n",
      "tensor(141.5950, requires_grad=True)\n",
      "tensor(221.1062, requires_grad=True)\n",
      "tensor(134.7118, requires_grad=True)\n",
      "tensor(212.8316, requires_grad=True)\n",
      "tensor(128.3956, requires_grad=True)\n",
      "tensor(205.1673, requires_grad=True)\n",
      "tensor(122.6010, requires_grad=True)\n",
      "tensor(198.0674, requires_grad=True)\n",
      "tensor(117.2864, requires_grad=True)\n",
      "tensor(191.4891, requires_grad=True)\n",
      "tensor(112.4132, requires_grad=True)\n",
      "tensor(185.3933, requires_grad=True)\n",
      "tensor(107.9461, requires_grad=True)\n",
      "tensor(179.7435, requires_grad=True)\n",
      "tensor(103.8524, requires_grad=True)\n",
      "tensor(174.5062, requires_grad=True)\n",
      "tensor(100.1022, requires_grad=True)\n",
      "tensor(169.6503, requires_grad=True)\n",
      "tensor(96.6676, requires_grad=True)\n",
      "tensor(165.1474, requires_grad=True)\n",
      "tensor(93.5233, requires_grad=True)\n",
      "tensor(160.9709, requires_grad=True)\n",
      "tensor(90.6458, requires_grad=True)\n",
      "tensor(157.0965, requires_grad=True)\n",
      "tensor(88.0134, requires_grad=True)\n",
      "tensor(153.5014, requires_grad=True)\n",
      "tensor(85.6062, requires_grad=True)\n",
      "tensor(150.1649, requires_grad=True)\n",
      "tensor(83.4061, requires_grad=True)\n",
      "tensor(147.0678, requires_grad=True)\n",
      "tensor(81.3961, requires_grad=True)\n",
      "tensor(144.1922, requires_grad=True)\n",
      "tensor(79.5606, requires_grad=True)\n",
      "tensor(141.5217, requires_grad=True)\n",
      "tensor(77.8853, requires_grad=True)\n",
      "tensor(139.0411, requires_grad=True)\n",
      "tensor(76.3573, requires_grad=True)\n",
      "tensor(136.7363, requires_grad=True)\n",
      "tensor(74.9642, requires_grad=True)\n",
      "tensor(134.5944, requires_grad=True)\n",
      "tensor(73.6951, requires_grad=True)\n",
      "tensor(132.6033, requires_grad=True)\n",
      "tensor(72.5396, requires_grad=True)\n",
      "tensor(130.7519, requires_grad=True)\n",
      "tensor(71.4884, requires_grad=True)\n",
      "tensor(129.0300, requires_grad=True)\n",
      "tensor(70.5327, requires_grad=True)\n",
      "tensor(127.4281, requires_grad=True)\n",
      "tensor(69.6646, requires_grad=True)\n",
      "tensor(125.9374, requires_grad=True)\n",
      "tensor(68.8768, requires_grad=True)\n",
      "tensor(124.5499, requires_grad=True)\n",
      "tensor(68.1626, requires_grad=True)\n",
      "tensor(123.2579, requires_grad=True)\n",
      "tensor(67.5156, requires_grad=True)\n",
      "tensor(122.0546, requires_grad=True)\n",
      "tensor(66.9303, requires_grad=True)\n",
      "tensor(120.9335, requires_grad=True)\n",
      "tensor(66.4014, requires_grad=True)\n",
      "tensor(119.8887, requires_grad=True)\n",
      "tensor(65.9240, requires_grad=True)\n",
      "tensor(118.9148, requires_grad=True)\n",
      "tensor(65.4938, requires_grad=True)\n",
      "tensor(118.0065, requires_grad=True)\n",
      "tensor(65.1068, requires_grad=True)\n",
      "tensor(117.1592, requires_grad=True)\n",
      "tensor(64.7591, requires_grad=True)\n",
      "tensor(116.3686, requires_grad=True)\n",
      "tensor(64.4473, requires_grad=True)\n",
      "tensor(115.6305, requires_grad=True)\n",
      "tensor(64.1683, requires_grad=True)\n",
      "tensor(114.9413, requires_grad=True)\n",
      "tensor(63.9193, requires_grad=True)\n",
      "tensor(114.2976, requires_grad=True)\n",
      "tensor(63.6975, requires_grad=True)\n",
      "tensor(113.6961, requires_grad=True)\n",
      "tensor(63.5005, requires_grad=True)\n",
      "tensor(113.1338, requires_grad=True)\n",
      "tensor(63.3262, requires_grad=True)\n",
      "tensor(112.6079, requires_grad=True)\n",
      "tensor(63.1724, requires_grad=True)\n",
      "tensor(112.1161, requires_grad=True)\n",
      "tensor(63.0373, requires_grad=True)\n",
      "tensor(111.6557, requires_grad=True)\n",
      "tensor(62.9191, requires_grad=True)\n",
      "tensor(111.2248, requires_grad=True)\n",
      "tensor(62.8164, requires_grad=True)\n",
      "tensor(110.8213, requires_grad=True)\n",
      "tensor(62.7276, requires_grad=True)\n",
      "tensor(110.4432, requires_grad=True)\n",
      "tensor(62.6514, requires_grad=True)\n",
      "tensor(110.0888, requires_grad=True)\n",
      "tensor(62.5867, requires_grad=True)\n",
      "tensor(109.7565, requires_grad=True)\n",
      "tensor(62.5323, requires_grad=True)\n",
      "tensor(109.4449, requires_grad=True)\n",
      "tensor(62.4872, requires_grad=True)\n",
      "tensor(109.1524, requires_grad=True)\n",
      "tensor(62.4504, requires_grad=True)\n",
      "tensor(108.8779, requires_grad=True)\n",
      "tensor(62.4212, requires_grad=True)\n",
      "tensor(108.6201, requires_grad=True)\n",
      "tensor(62.3988, requires_grad=True)\n",
      "tensor(108.3779, requires_grad=True)\n",
      "tensor(62.3825, requires_grad=True)\n",
      "tensor(108.1503, requires_grad=True)\n",
      "tensor(62.3716, requires_grad=True)\n",
      "tensor(107.9362, requires_grad=True)\n",
      "tensor(62.3655, requires_grad=True)\n",
      "tensor(107.7349, requires_grad=True)\n",
      "tensor(62.3637, requires_grad=True)\n",
      "tensor(107.5454, requires_grad=True)\n",
      "tensor(62.3657, requires_grad=True)\n",
      "tensor(107.3670, requires_grad=True)\n",
      "tensor(62.3711, requires_grad=True)\n",
      "tensor(107.1991, requires_grad=True)\n",
      "tensor(62.3795, requires_grad=True)\n",
      "tensor(107.0408, requires_grad=True)\n",
      "tensor(62.3905, requires_grad=True)\n",
      "tensor(106.8916, requires_grad=True)\n",
      "tensor(62.4038, requires_grad=True)\n",
      "tensor(106.7510, requires_grad=True)\n",
      "tensor(62.4190, requires_grad=True)\n",
      "tensor(106.6183, requires_grad=True)\n",
      "tensor(62.4360, requires_grad=True)\n",
      "tensor(106.4931, requires_grad=True)\n",
      "tensor(62.4544, requires_grad=True)\n",
      "tensor(106.3749, requires_grad=True)\n",
      "tensor(62.4740, requires_grad=True)\n",
      "tensor(106.2632, requires_grad=True)\n",
      "tensor(62.4947, requires_grad=True)\n",
      "tensor(106.1577, requires_grad=True)\n",
      "tensor(62.5162, requires_grad=True)\n",
      "tensor(106.0581, requires_grad=True)\n",
      "tensor(62.5384, requires_grad=True)\n",
      "tensor(105.9638, requires_grad=True)\n",
      "tensor(62.5612, requires_grad=True)\n",
      "tensor(105.8746, requires_grad=True)\n",
      "tensor(62.5844, requires_grad=True)\n",
      "tensor(105.7902, requires_grad=True)\n",
      "tensor(62.6078, requires_grad=True)\n",
      "tensor(105.7104, requires_grad=True)\n",
      "tensor(62.6315, requires_grad=True)\n",
      "tensor(105.6347, requires_grad=True)\n",
      "tensor(62.6552, requires_grad=True)\n",
      "tensor(105.5630, requires_grad=True)\n",
      "tensor(62.6789, requires_grad=True)\n",
      "tensor(105.4951, requires_grad=True)\n",
      "tensor(62.7026, requires_grad=True)\n",
      "tensor(105.4307, requires_grad=True)\n",
      "tensor(62.7262, requires_grad=True)\n",
      "tensor(105.3697, requires_grad=True)\n",
      "tensor(62.7495, requires_grad=True)\n",
      "tensor(105.3117, requires_grad=True)\n"
     ]
    }
   ],
   "source": [
    "federated()"
   ]
  },
  {
   "cell_type": "code",
   "execution_count": null,
   "metadata": {},
   "outputs": [],
   "source": []
  },
  {
   "cell_type": "code",
   "execution_count": null,
   "metadata": {},
   "outputs": [],
   "source": []
  },
  {
   "cell_type": "code",
   "execution_count": null,
   "metadata": {},
   "outputs": [],
   "source": []
  }
 ],
 "metadata": {
  "kernelspec": {
   "display_name": "Python 3",
   "language": "python",
   "name": "python3"
  },
  "language_info": {
   "codemirror_mode": {
    "name": "ipython",
    "version": 3
   },
   "file_extension": ".py",
   "mimetype": "text/x-python",
   "name": "python",
   "nbconvert_exporter": "python",
   "pygments_lexer": "ipython3",
   "version": "3.7.3"
  }
 },
 "nbformat": 4,
 "nbformat_minor": 2
}
